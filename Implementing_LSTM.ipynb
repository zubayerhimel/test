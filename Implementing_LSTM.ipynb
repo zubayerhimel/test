{
  "nbformat": 4,
  "nbformat_minor": 0,
  "metadata": {
    "colab": {
      "name": "Implementing LSTM.ipynb",
      "provenance": [],
      "collapsed_sections": [],
      "include_colab_link": true
    },
    "kernelspec": {
      "display_name": "Python 3",
      "name": "python3"
    }
  },
  "cells": [
    {
      "cell_type": "markdown",
      "metadata": {
        "id": "view-in-github",
        "colab_type": "text"
      },
      "source": [
        "<a href=\"https://colab.research.google.com/github/zubayerhimel/test/blob/master/Implementing_LSTM.ipynb\" target=\"_parent\"><img src=\"https://colab.research.google.com/assets/colab-badge.svg\" alt=\"Open In Colab\"/></a>"
      ]
    },
    {
      "cell_type": "code",
      "metadata": {
        "id": "TfDK5Ls-oTeD"
      },
      "source": [
        "import numpy as np\n",
        "from numpy import mean\n",
        "from numpy import std\n",
        "from numpy import dstack\n",
        "from pandas import read_csv\n",
        "from keras.models import Sequential\n",
        "from keras.layers import Dense\n",
        "from keras.layers import Flatten\n",
        "from keras.layers import Dropout\n",
        "from keras.layers import LSTM\n",
        "from keras.utils import to_categorical\n",
        "from matplotlib import pyplot\n",
        "from sklearn.model_selection import train_test_split"
      ],
      "execution_count": null,
      "outputs": []
    },
    {
      "cell_type": "code",
      "metadata": {
        "id": "_x0lBxiAoayH"
      },
      "source": [
        "# load a single file as a numpy array\n",
        "def load_file(filepath):\n",
        "  dataframe = read_csv(filepath)\n",
        "  return dataframe.values"
      ],
      "execution_count": null,
      "outputs": []
    },
    {
      "cell_type": "code",
      "metadata": {
        "colab": {
          "base_uri": "https://localhost:8080/"
        },
        "id": "Mlfj8FFgohQo",
        "outputId": "3006b16e-6439-48b7-9b1f-eea963792297"
      },
      "source": [
        "# importing file from drive\n",
        "from google.colab import drive\n",
        "drive.mount(\"/content/gdrive\")"
      ],
      "execution_count": null,
      "outputs": [
        {
          "output_type": "stream",
          "text": [
            "Drive already mounted at /content/gdrive; to attempt to forcibly remount, call drive.mount(\"/content/gdrive\", force_remount=True).\n"
          ],
          "name": "stdout"
        }
      ]
    },
    {
      "cell_type": "code",
      "metadata": {
        "id": "rBj8mDH-tOvU"
      },
      "source": [
        "def dataPreprocessing(filePath, repeats):\n",
        "  data = load_file(filePath)\n",
        "  X, y = data[:, :-1], data[:, -1]\n",
        " \n",
        "  # split into train test sets\n",
        "  X_train, X_test, y_train, y_test = train_test_split(X, y, test_size=0.3, random_state=1)\n",
        "\n",
        "  # Modify Train X \n",
        "  trainData = list()\n",
        "  trainData.append(X_train)\n",
        "  X_train = dstack(trainData)\n",
        "\n",
        "  # Modify Train y\n",
        "  y_train = np.reshape(y_train, (-1, 1))\n",
        "  y_train = y_train - 1\n",
        "  y_train = to_categorical(y_train);\n",
        "\n",
        "  # Modify Test X \n",
        "  testData = list()\n",
        "  testData.append(X_test)\n",
        "  X_test = dstack(testData)\n",
        "\n",
        "  # Modify Test y\n",
        "  y_test = np.reshape(y_test, (-1, 1))\n",
        "  y_test = y_test - 1\n",
        "  y_test = to_categorical(y_test);\n",
        "\n",
        "  # repeat experiment\n",
        "  scores = list()\n",
        "  for r in range(repeats):\n",
        "    # score = vanilla_LSTM(X_train, y_train, X_test, y_test)\n",
        "    score = stack_LSTM(X_train, y_train, X_test, y_test)\n",
        "    score = score * 100.0\n",
        "    print('Repeat number => %d: %.3f' % (r+1, score))\n",
        "    scores.append(score)\n",
        "\t# summarize results\n",
        "  summarize_results(scores)"
      ],
      "execution_count": null,
      "outputs": []
    },
    {
      "cell_type": "code",
      "metadata": {
        "id": "UtttV39BufNI"
      },
      "source": [
        "# summarize scores\n",
        "def summarize_results(scores):\n",
        "\tprint(scores)\n",
        "\tm, s = mean(scores), std(scores)\n",
        "\tprint('Accuracy: %.3f%% (+/-%.3f)' % (m, s))"
      ],
      "execution_count": null,
      "outputs": []
    },
    {
      "cell_type": "code",
      "metadata": {
        "id": "ucWoUniSofPG"
      },
      "source": [
        "# fit and evaluate a vanilla lstm model\n",
        "def vanilla_LSTM(X_train, y_train, X_test, y_test):\n",
        "  verbose, epochs, batch_size = 0, 15, 64\n",
        "  n_timesteps, n_features, n_outputs = X_train.shape[1], X_train.shape[2], y_train.shape[1]\n",
        "  model = Sequential()\n",
        "\n",
        "  model.add(LSTM(100, input_shape=(n_timesteps,n_features)))\n",
        "  model.add(Dropout(0.5))\n",
        "  model.add(Dense(100, activation='relu'))\n",
        "  model.add(Dense(n_outputs, activation='softmax'))\n",
        "  model.compile(loss='categorical_crossentropy', optimizer='adam', metrics=['accuracy'])\n",
        "  model.fit(X_train, y_train, epochs=epochs, batch_size=batch_size, verbose=verbose)\n",
        "  _, accuracy = model.evaluate(X_test, y_test, batch_size=batch_size, verbose=0)\n",
        "  \n",
        "  return accuracy"
      ],
      "execution_count": null,
      "outputs": []
    },
    {
      "cell_type": "code",
      "metadata": {
        "id": "2f7IaMJBoWX4"
      },
      "source": [
        "# fit and evaluate stack lstm\r\n",
        "def stack_LSTM(X_train, y_train, X_test, y_test):\r\n",
        "  verbose, epochs, batch_size = 0, 15, 64\r\n",
        "  n_timesteps, n_features, n_outputs = X_train.shape[1], X_train.shape[2], y_train.shape[1]\r\n",
        "  model = Sequential()\r\n",
        "\r\n",
        "  model.add(LSTM(300, activation='relu', return_sequences=True, input_shape=(n_timesteps,n_features)))\r\n",
        "  model.add(LSTM(200, activation='relu', return_sequences=True))\r\n",
        "  model.add(LSTM(100, activation='relu', return_sequences=True))\r\n",
        "  model.add(LSTM(50, activation='relu', return_sequences=True))\r\n",
        "  model.add(LSTM(25, activation='relu'))\r\n",
        "  model.add(Dense(30, activation='relu'))\r\n",
        "  model.add(Dense(20, activation='relu'))\r\n",
        "  model.add(Dense(10, activation='relu'))\r\n",
        "  # model.add(Dropout(0.5))\r\n",
        "\r\n",
        "  model.add(Dense(n_outputs, activation='sigmoid'))\r\n",
        "  model.compile(loss='mean_squared_error', optimizer='adam', metrics=['accuracy'])\r\n",
        "  model.fit(X_train, y_train, epochs=epochs, batch_size=batch_size, verbose=verbose)\r\n",
        "  _, accuracy = model.evaluate(X_test, y_test, batch_size=batch_size, verbose=0)\r\n",
        "  \r\n",
        "  return accuracy"
      ],
      "execution_count": null,
      "outputs": []
    },
    {
      "cell_type": "code",
      "metadata": {
        "id": "KRaQuW2Oo4BH"
      },
      "source": [
        "datasetList = list()\n",
        "datasetList.append('/content/gdrive/My Drive/Colab-Notebooks/dataset/merged.csv')\n",
        "datasetList.append('/content/gdrive/My Drive/Colab-Notebooks/dataset/merged2.csv')"
      ],
      "execution_count": null,
      "outputs": []
    },
    {
      "cell_type": "code",
      "metadata": {
        "colab": {
          "background_save": true,
          "base_uri": "https://localhost:8080/"
        },
        "id": "-GZXJMYbpnPv",
        "outputId": "35b97ca7-4659-4611-baf6-5fb72d63de14"
      },
      "source": [
        "for i in datasetList:\n",
        "  dataPreprocessing(i, 2)"
      ],
      "execution_count": null,
      "outputs": [
        {
          "output_type": "stream",
          "text": [
            "Repeat number => 1: 93.982\n",
            "Repeat number => 2: 93.859\n",
            "Repeat number => 3: 93.954\n",
            "Repeat number => 4: 94.075\n",
            "Repeat number => 5: 93.955\n",
            "[93.98240447044373, 93.85884404182434, 93.95391941070557, 94.07467246055603, 93.95512342453003]\n",
            "Accuracy: 93.965% (+/-0.069)\n",
            "Repeat number => 1: 93.563\n",
            "Repeat number => 2: 93.240\n",
            "Repeat number => 3: 93.562\n",
            "Repeat number => 4: 93.263\n",
            "Repeat number => 5: 93.209\n",
            "[93.56271028518677, 93.24023723602295, 93.56199502944946, 93.26311945915222, 93.2087779045105]\n",
            "Accuracy: 93.367% (+/-0.160)\n"
          ],
          "name": "stdout"
        }
      ]
    }
  ]
}